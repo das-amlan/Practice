{
  "nbformat": 4,
  "nbformat_minor": 0,
  "metadata": {
    "colab": {
      "name": "Practice.ipynb",
      "provenance": []
    },
    "kernelspec": {
      "name": "python3",
      "display_name": "Python 3"
    },
    "language_info": {
      "name": "python"
    }
  },
  "cells": [
    {
      "cell_type": "markdown",
      "metadata": {
        "id": "CqkkFgyYUj7Q"
      },
      "source": [
        "Get the First and the last name form the input"
      ]
    },
    {
      "cell_type": "code",
      "metadata": {
        "id": "pPmqz0-HUhqj"
      },
      "source": [
        "name = input(\"Give your name: \")\n",
        "\n",
        "nameInput = name.split()\n",
        "\n",
        "lastName = nameInput[len(nameInput)-1]\n",
        "   \n",
        "getName = [ ]\n",
        "   \n",
        "for word in nameInput:\n",
        "    if word.lower() != lastName.lower():\n",
        "        getName.append(word)\n",
        "       \n",
        "firstName = ' '.join(getName)\n",
        "\n",
        "print(f\"Your first name is: {firstName}\\nYour last name is: {lastName}\")"
      ],
      "execution_count": null,
      "outputs": []
    },
    {
      "cell_type": "markdown",
      "metadata": {
        "id": "6UoN-DqDUsTB"
      },
      "source": [
        "A function which will make odd position letters Upper case and even position to lower case from a given string."
      ]
    },
    {
      "cell_type": "code",
      "metadata": {
        "id": "UcOTibaDUszb"
      },
      "source": [
        "def myfun(given):\n",
        "   \n",
        "    op = []\n",
        "    for i,c in enumerate(given):\n",
        "        if i % 2 == 0:\n",
        "            op.append(c.lower())\n",
        "        else:\n",
        "            op.append(c.upper())\n",
        "    nwstr =  ''.join(op)\n",
        "    return nwstr"
      ],
      "execution_count": null,
      "outputs": []
    },
    {
      "cell_type": "markdown",
      "metadata": {
        "id": "tASYQopoVMvO"
      },
      "source": [
        "A function which will give the lesser number if both the number are even and will give the greater one if both or one of them is odd."
      ]
    },
    {
      "cell_type": "code",
      "metadata": {
        "id": "XHQlaTn-VNG5"
      },
      "source": [
        "def lesgrt(a, b):\n",
        "    if a%2 == 0 and b%2 == 0:\n",
        "        if a>b:\n",
        "            return b\n",
        "        return a\n",
        "    elif a%2 != 0 or b%2 != 0:\n",
        "        if a>b:\n",
        "            return a\n",
        "        return b"
      ],
      "execution_count": null,
      "outputs": []
    },
    {
      "cell_type": "markdown",
      "metadata": {
        "id": "ZA0FIGHBWEEn"
      },
      "source": [
        "A function which will take a two word string and will return True if both words have the same first letter and False otherwise"
      ]
    },
    {
      "cell_type": "code",
      "metadata": {
        "id": "GX2On_7uWExv"
      },
      "source": [
        "def animCrac(text):\n",
        "    text = text.lower()\n",
        "    animal = text.split()\n",
        "    for word in animal:\n",
        "        for fst_word in animal:\n",
        "            if word == fst_word:\n",
        "                next\n",
        "            elif word[0] == fst_word[0]:\n",
        "                return True\n",
        "            else:\n",
        "                return False"
      ],
      "execution_count": null,
      "outputs": []
    },
    {
      "cell_type": "markdown",
      "metadata": {
        "id": "50L3W51CWZ1R"
      },
      "source": [
        "A function which will take two number. Function will return True if the sum of both number is 20 or both are 20 and return False otherwise."
      ]
    },
    {
      "cell_type": "code",
      "metadata": {
        "id": "pQVHCjHBWbYI"
      },
      "source": [
        "def makes_twenty(n1, n2):\n",
        "    if (n1+n2) == 20 or (n1 == 20 or n2 == 20):\n",
        "        return True\n",
        "    else:\n",
        "        return False"
      ],
      "execution_count": 1,
      "outputs": []
    },
    {
      "cell_type": "markdown",
      "metadata": {
        "id": "jZE-GDZ5Xm9V"
      },
      "source": [
        "A function which will take a string and return the same string with the 1st and 4th letter turn to upper case."
      ]
    },
    {
      "cell_type": "code",
      "metadata": {
        "id": "kLodRdYkXnYj"
      },
      "source": [
        "def oldMac(name):\n",
        "    getname = []\n",
        "    for i,c in enumerate(name):\n",
        "        if i == 0 or i == 3:\n",
        "            getname.append(c.upper())\n",
        "        else:\n",
        "            getname.append(c.lower())\n",
        "    nwname = ''.join(getname)\n",
        "    return nwname"
      ],
      "execution_count": null,
      "outputs": []
    },
    {
      "cell_type": "markdown",
      "metadata": {
        "id": "WT6x_rMzZiFQ"
      },
      "source": [
        "# Make a function that will reverse the given string."
      ]
    },
    {
      "cell_type": "code",
      "metadata": {
        "id": "kgMsCwZwZig5"
      },
      "source": [
        "def master_yoda(text):\n",
        "    text_splt = text.split()\n",
        "    rev = text_splt[::-1]\n",
        "    rev_sen = \" \".join(rev)\n",
        "    return rev_sen"
      ],
      "execution_count": null,
      "outputs": []
    },
    {
      "cell_type": "markdown",
      "metadata": {
        "id": "J3EYR1P2aRdN"
      },
      "source": [
        " A function that takes a number and return True if the number is between 100/200-10 <= n <= 100+10/200+10"
      ]
    },
    {
      "cell_type": "code",
      "metadata": {
        "id": "DYV5yihwaR6_"
      },
      "source": [
        "def almost_there(n):\n",
        "    if (100-10 <= n <= 100+10) or (200-10 <= n <= 200+10):\n",
        "        return True\n",
        "    else:\n",
        "        return False"
      ],
      "execution_count": null,
      "outputs": []
    }
  ]
}